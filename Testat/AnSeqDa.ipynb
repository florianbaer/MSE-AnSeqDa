{
 "cells": [
  {
   "cell_type": "code",
   "execution_count": 4,
   "id": "a528f25e-5f6b-4b70-9e71-95a6e1cddf6c",
   "metadata": {},
   "outputs": [
    {
     "name": "stderr",
     "output_type": "stream",
     "text": [
      "Updating HTML index of packages in '.Library'\n",
      "\n",
      "Making 'packages.html' ...\n",
      " done\n",
      "\n"
     ]
    }
   ],
   "source": [
    "source('../setup.r')\n",
    "library(Mcomp, quietly = T);"
   ]
  },
  {
   "cell_type": "code",
   "execution_count": 10,
   "id": "df8ac898-4851-4715-9f2c-7cdb9e7163cc",
   "metadata": {},
   "outputs": [
    {
     "data": {
      "text/plain": [
       "M-Competition data: 1428 MONTHLY time series\n",
       "\n",
       "         Type of data\n",
       "Period    DEMOGRAPHIC FINANCE INDUSTRY MACRO MICRO OTHER\n",
       "  MONTHLY         111     145      334   312   474    52"
      ]
     },
     "metadata": {},
     "output_type": "display_data"
    },
    {
     "data": {
      "text/html": [
       "\n",
       "<table width=\"100%\" summary=\"page for Mcomp-package {Mcomp}\"><tr><td>Mcomp-package {Mcomp}</td><td style=\"text-align: right;\">R Documentation</td></tr></table>\n",
       "\n",
       "<h2>Data from the M-competitions</h2>\n",
       "\n",
       "<h3>Description</h3>\n",
       "\n",
       "<p>The 1001 time series from the M-competition (Makridakis et al. 1982), and\n",
       "the 3003 time series and forecasts from the IJF-M3 competition (Makridakis\n",
       "and Hibon, 2000).\n",
       "</p>\n",
       "\n",
       "\n",
       "<h3>Author(s)</h3>\n",
       "\n",
       "<p>Rob J Hyndman. <a href=\"mailto:Rob.Hyndman@monash.edu\">Rob.Hyndman@monash.edu</a>, with assistance from\n",
       "Muhammad Akram and Christoph Bergmeir.\n",
       "</p>\n",
       "\n",
       "\n",
       "<h3>Source</h3>\n",
       "\n",
       "<p><a href=\"http://forecasters.org/resources/time-series-data/m3-competition/\">http://forecasters.org/resources/time-series-data/m3-competition/</a>.\n",
       "</p>\n",
       "\n",
       "\n",
       "<h3>References</h3>\n",
       "\n",
       "<p>Makridakis, S., A. Andersen, R. Carbone, R. Fildes, M. Hibon, R.\n",
       "Lewandowski, J. Newton, E. Parzen, and R. Winkler (1982) The accuracy of\n",
       "extrapolation (time series) methods: results of a forecasting competition.\n",
       "<em>Journal of Forecasting</em>, <b>1</b>, 111&ndash;153.\n",
       "</p>\n",
       "<p>Makridakis and Hibon (2000) The M3-competition: results, conclusions and\n",
       "implications. <em>International Journal of Forecasting</em>, <b>16</b>,\n",
       "451-476.\n",
       "</p>\n",
       "\n",
       "<hr /><div style=\"text-align: center;\">[Package <em>Mcomp</em> version 2.8 ]</div>"
      ],
      "text/latex": [
       "\\inputencoding{utf8}\n",
       "\\HeaderA{Mcomp-package}{Data from the M-competitions}{Mcomp.Rdash.package}\n",
       "\\aliasA{Mcomp}{Mcomp-package}{Mcomp}\n",
       "\\keyword{package}{Mcomp-package}\n",
       "%\n",
       "\\begin{Description}\\relax\n",
       "The 1001 time series from the M-competition (Makridakis et al. 1982), and\n",
       "the 3003 time series and forecasts from the IJF-M3 competition (Makridakis\n",
       "and Hibon, 2000).\n",
       "\\end{Description}\n",
       "%\n",
       "\\begin{Author}\\relax\n",
       "Rob J Hyndman. \\email{Rob.Hyndman@monash.edu}, with assistance from\n",
       "Muhammad Akram and Christoph Bergmeir.\n",
       "\\end{Author}\n",
       "%\n",
       "\\begin{Source}\\relax\n",
       "\\url{http://forecasters.org/resources/time-series-data/m3-competition/}.\n",
       "\\end{Source}\n",
       "%\n",
       "\\begin{References}\\relax\n",
       "Makridakis, S., A. Andersen, R. Carbone, R. Fildes, M. Hibon, R.\n",
       "Lewandowski, J. Newton, E. Parzen, and R. Winkler (1982) The accuracy of\n",
       "extrapolation (time series) methods: results of a forecasting competition.\n",
       "\\emph{Journal of Forecasting}, \\bold{1}, 111--153.\n",
       "\n",
       "Makridakis and Hibon (2000) The M3-competition: results, conclusions and\n",
       "implications. \\emph{International Journal of Forecasting}, \\bold{16},\n",
       "451-476.\n",
       "\\end{References}"
      ],
      "text/plain": [
       "Mcomp-package              package:Mcomp               R Documentation\n",
       "\n",
       "_\bD_\ba_\bt_\ba _\bf_\br_\bo_\bm _\bt_\bh_\be _\bM-_\bc_\bo_\bm_\bp_\be_\bt_\bi_\bt_\bi_\bo_\bn_\bs\n",
       "\n",
       "_\bD_\be_\bs_\bc_\br_\bi_\bp_\bt_\bi_\bo_\bn:\n",
       "\n",
       "     The 1001 time series from the M-competition (Makridakis et al.\n",
       "     1982), and the 3003 time series and forecasts from the IJF-M3\n",
       "     competition (Makridakis and Hibon, 2000).\n",
       "\n",
       "_\bA_\bu_\bt_\bh_\bo_\br(_\bs):\n",
       "\n",
       "     Rob J Hyndman. <email: Rob.Hyndman@monash.edu>, with assistance\n",
       "     from Muhammad Akram and Christoph Bergmeir.\n",
       "\n",
       "_\bS_\bo_\bu_\br_\bc_\be:\n",
       "\n",
       "     <URL:\n",
       "     http://forecasters.org/resources/time-series-data/m3-competition/>.\n",
       "\n",
       "_\bR_\be_\bf_\be_\br_\be_\bn_\bc_\be_\bs:\n",
       "\n",
       "     Makridakis, S., A. Andersen, R. Carbone, R. Fildes, M. Hibon, R.\n",
       "     Lewandowski, J. Newton, E. Parzen, and R. Winkler (1982) The\n",
       "     accuracy of extrapolation (time series) methods: results of a\n",
       "     forecasting competition. _Journal of Forecasting_, *1*, 111-153.\n",
       "\n",
       "     Makridakis and Hibon (2000) The M3-competition: results,\n",
       "     conclusions and implications. _International Journal of\n",
       "     Forecasting_, *16*, 451-476.\n"
      ]
     },
     "metadata": {},
     "output_type": "display_data"
    }
   ],
   "source": [
    "?Mcomp\n",
    "monthly_ts_list <- subset(M3, \"monthly\")\n",
    "monthly_ts_list"
   ]
  },
  {
   "cell_type": "code",
   "execution_count": 7,
   "id": "f1b08ab3-dd76-4892-a596-bd570e1e954f",
   "metadata": {},
   "outputs": [
    {
     "data": {
      "text/plain": [
       "NULL"
      ]
     },
     "metadata": {},
     "output_type": "display_data"
    }
   ],
   "source": [
    "monthly_ts_list$x"
   ]
  },
  {
   "cell_type": "code",
   "execution_count": null,
   "id": "55f5ab71-4d49-4d58-ad94-bfc28d20017e",
   "metadata": {},
   "outputs": [],
   "source": []
  }
 ],
 "metadata": {
  "kernelspec": {
   "display_name": "R",
   "language": "R",
   "name": "ir"
  },
  "language_info": {
   "codemirror_mode": "r",
   "file_extension": ".r",
   "mimetype": "text/x-r-source",
   "name": "R",
   "pygments_lexer": "r",
   "version": "4.1.3"
  }
 },
 "nbformat": 4,
 "nbformat_minor": 5
}
